{
 "cells": [
  {
   "cell_type": "markdown",
   "metadata": {
    "id": "zz7SDkPIkVlM"
   },
   "source": [
    "# Урок 5. Производная функции одной переменной. Часть 1\n",
    "## Найти производные функций:"
   ]
  },
  {
   "cell_type": "markdown",
   "metadata": {
    "id": "SmdURZ_OkVqQ"
   },
   "source": [
    "### __1.__ $$y=\\frac{1}{x}+\\frac{2}{x^2}-\\frac{5}{x^3}+\\sqrt x -\\sqrt[3]x+\\frac{3}{\\sqrt x}$$\n",
    "### $$y'=-\\frac{1}{2\\sqrt{x^3}}-\\frac{4}{x^3}+\\frac{15}{x^4}+\\frac{1}{2\\sqrt x} -\\frac{1}{3\\sqrt[3]{x^2}}-\\frac{3}{2\\sqrt {x^3}}$$"
   ]
  },
  {
   "cell_type": "markdown",
   "metadata": {
    "id": "cECfCSANkVqR"
   },
   "source": [
    "### __2.__ $$y=x \\cdot \\sqrt {1+x^2}$$\n",
    "### $$y'=\\sqrt {1+x^2}+x \\cdot \\frac{1}{2\\sqrt{1+x^2}}\\cdot2x=\\sqrt {1+x^2}+\\frac{x^2}{\\sqrt{1+x^2}}=\\frac {1+2x^2}{\\sqrt{1+x^2}}$$"
   ]
  },
  {
   "cell_type": "markdown",
   "metadata": {
    "id": "DFrjdtbHkVqS"
   },
   "source": [
    "### __3.__ $$y= \\frac{2x}{1-x^2}$$\n",
    "### $$y'= \\frac{2\\cdot(1-x^2)-2x\\cdot(-2x)}{(1-x^2)^2}=\\frac{2x^2+2}{(1-x^2)^2}$$"
   ]
  },
  {
   "cell_type": "markdown",
   "metadata": {
    "id": "5la-eVLukVqT"
   },
   "source": [
    "### __4*.__ $$y=\\sqrt{x+ \\sqrt{x+\\sqrt x}}$$\n",
    "### $$y'=\\frac{1}{2}\\Bigr(x+\\Bigr(x+x^{\\frac{1}{2}}\\Bigl)^{\\frac{1}{2}}\\Bigl)^{-\\frac{1}{2}}\\cdot\\Bigr(1+\\frac{1}{2}\\Bigr(x+x^{\\frac{1}{2}}\\Bigl)^{-\\frac{1}{2}}\\cdot \\Bigr(1+\\frac{1}{2}x^{-\\frac{1}{2}}\\Bigl)\\Bigl)$$"
   ]
  },
  {
   "cell_type": "markdown",
   "metadata": {
    "id": "kQlell_GkVqU"
   },
   "source": [
    "### __5.__ $$y= \\ln(x+\\sqrt{x^2+1})$$\n",
    "### $$y'=\\frac{1}{x+\\sqrt{x^2+1}}\\cdot \\Bigr(1+\\frac{x}{\\sqrt{x^2+1}} \\Bigl)=\\frac{1}{x+\\sqrt{x^2+1}}\\cdot \\frac{x+\\sqrt{x^2+1}}{\\sqrt{x^2+1}}=\\frac{1}{\\sqrt{x^2+1}}$$"
   ]
  },
  {
   "cell_type": "markdown",
   "metadata": {
    "id": "jdS49cBXhvtt"
   },
   "source": [
    "### __6.__ $$y=x \\cdot \\ln(x+\\sqrt{x^2+1})-\\sqrt{x^2+1}$$\n",
    "### $$y'=1 \\cdot \\ln(x+\\sqrt{x^2+1})+x \\cdot \\frac{1}{\\sqrt{x^2+1}}-\\frac{x}{\\sqrt{x^2+1}}=\\ln(x+\\sqrt{x^2+1})$$"
   ]
  },
  {
   "cell_type": "markdown",
   "metadata": {
    "id": "eKjoCpeohvtt"
   },
   "source": [
    "### __7*.__ $$y=\\arcsin (\\sin x)$$\n",
    "### $$y'=\\frac{1}{\\sqrt{1-\\sin^2x}}\\cdot\\cos x= \\frac{\\cos x}{\\sqrt{1-\\sin^2x}} = \\frac{\\cos x}{\\sqrt{\\cos^2x}} = \\frac{\\cos x}{\\mid\\cos x\\mid} = sgn (\\cos x)$$\n",
    "### $$x \\neq \\frac{\\pi}{2} + \\pi k, k \\in Z$$\n"
   ]
  },
  {
   "cell_type": "markdown",
   "metadata": {
    "id": "TRzqLaqjhvtu"
   },
   "source": [
    "__8*.__ Вычислить приближенное значение: \n",
    "\n",
    "### $$\\sin(1^0)=\\sin\\Bigl(\\frac{\\pi}{180}\\Bigr)$$\n"
   ]
  },
  {
   "cell_type": "code",
   "execution_count": 1,
   "metadata": {
    "ExecuteTime": {
     "end_time": "2021-02-16T13:18:43.492561Z",
     "start_time": "2021-02-16T13:18:43.473571Z"
    }
   },
   "outputs": [
    {
     "data": {
      "text/plain": [
       "0.017452406437283515"
      ]
     },
     "execution_count": 1,
     "metadata": {},
     "output_type": "execute_result"
    }
   ],
   "source": [
    "import math\n",
    "\n",
    "\n",
    "def sin(x):\n",
    "    sum = 0\n",
    "    x = x * math.pi / 180\n",
    "    for a in range(0, 42):\n",
    "        sum += (math.pow(-1, a)) / (math.factorial(2 * a + 1)) * (math.pow(x, 2 * a + 1))\n",
    "    return sum\n",
    "\n",
    "x = 1\n",
    "\n",
    "ans = sin(x)\n",
    "ans"
   ]
  },
  {
   "cell_type": "markdown",
   "metadata": {
    "id": "MMTUDK-Ahvtu"
   },
   "source": [
    "__9**.__ Написать на python алгоритм, по вычислению значений $\\sin(x)$ для $х \\in[0, 30^0]$\n",
    "\n",
    "Для проверки подойдут данные из таблицы Брадиса"
   ]
  },
  {
   "cell_type": "code",
   "execution_count": 2,
   "metadata": {
    "ExecuteTime": {
     "end_time": "2021-02-16T13:18:45.916071Z",
     "start_time": "2021-02-16T13:18:43.494513Z"
    }
   },
   "outputs": [
    {
     "data": {
      "text/html": [
       "<div>\n",
       "<style scoped>\n",
       "    .dataframe tbody tr th:only-of-type {\n",
       "        vertical-align: middle;\n",
       "    }\n",
       "\n",
       "    .dataframe tbody tr th {\n",
       "        vertical-align: top;\n",
       "    }\n",
       "\n",
       "    .dataframe thead th {\n",
       "        text-align: right;\n",
       "    }\n",
       "</style>\n",
       "<table border=\"1\" class=\"dataframe\">\n",
       "  <thead>\n",
       "    <tr style=\"text-align: right;\">\n",
       "      <th></th>\n",
       "      <th>angle</th>\n",
       "      <th>sin</th>\n",
       "    </tr>\n",
       "  </thead>\n",
       "  <tbody>\n",
       "    <tr>\n",
       "      <th>0</th>\n",
       "      <td>0.00</td>\n",
       "      <td>0.000000</td>\n",
       "    </tr>\n",
       "    <tr>\n",
       "      <th>1</th>\n",
       "      <td>0.01</td>\n",
       "      <td>0.000175</td>\n",
       "    </tr>\n",
       "    <tr>\n",
       "      <th>2</th>\n",
       "      <td>0.02</td>\n",
       "      <td>0.000349</td>\n",
       "    </tr>\n",
       "    <tr>\n",
       "      <th>3</th>\n",
       "      <td>0.03</td>\n",
       "      <td>0.000524</td>\n",
       "    </tr>\n",
       "    <tr>\n",
       "      <th>4</th>\n",
       "      <td>0.04</td>\n",
       "      <td>0.000698</td>\n",
       "    </tr>\n",
       "    <tr>\n",
       "      <th>...</th>\n",
       "      <td>...</td>\n",
       "      <td>...</td>\n",
       "    </tr>\n",
       "    <tr>\n",
       "      <th>2996</th>\n",
       "      <td>29.96</td>\n",
       "      <td>0.499395</td>\n",
       "    </tr>\n",
       "    <tr>\n",
       "      <th>2997</th>\n",
       "      <td>29.97</td>\n",
       "      <td>0.499546</td>\n",
       "    </tr>\n",
       "    <tr>\n",
       "      <th>2998</th>\n",
       "      <td>29.98</td>\n",
       "      <td>0.499698</td>\n",
       "    </tr>\n",
       "    <tr>\n",
       "      <th>2999</th>\n",
       "      <td>29.99</td>\n",
       "      <td>0.499849</td>\n",
       "    </tr>\n",
       "    <tr>\n",
       "      <th>3000</th>\n",
       "      <td>30.00</td>\n",
       "      <td>0.500000</td>\n",
       "    </tr>\n",
       "  </tbody>\n",
       "</table>\n",
       "<p>3001 rows × 2 columns</p>\n",
       "</div>"
      ],
      "text/plain": [
       "      angle       sin\n",
       "0      0.00  0.000000\n",
       "1      0.01  0.000175\n",
       "2      0.02  0.000349\n",
       "3      0.03  0.000524\n",
       "4      0.04  0.000698\n",
       "...     ...       ...\n",
       "2996  29.96  0.499395\n",
       "2997  29.97  0.499546\n",
       "2998  29.98  0.499698\n",
       "2999  29.99  0.499849\n",
       "3000  30.00  0.500000\n",
       "\n",
       "[3001 rows x 2 columns]"
      ]
     },
     "execution_count": 2,
     "metadata": {},
     "output_type": "execute_result"
    }
   ],
   "source": [
    "import pandas as pd\n",
    "import numpy as np\n",
    "\n",
    "N = 3001\n",
    "\n",
    "df = pd.DataFrame()\n",
    "df['angle'] = np.linspace(0, 30, num=N)\n",
    "df['sin'] = df.apply(sin, axis=1)\n",
    "df"
   ]
  },
  {
   "cell_type": "code",
   "execution_count": 3,
   "metadata": {
    "ExecuteTime": {
     "end_time": "2021-02-16T13:18:45.932043Z",
     "start_time": "2021-02-16T13:18:45.918039Z"
    }
   },
   "outputs": [
    {
     "data": {
      "text/html": [
       "<div>\n",
       "<style scoped>\n",
       "    .dataframe tbody tr th:only-of-type {\n",
       "        vertical-align: middle;\n",
       "    }\n",
       "\n",
       "    .dataframe tbody tr th {\n",
       "        vertical-align: top;\n",
       "    }\n",
       "\n",
       "    .dataframe thead th {\n",
       "        text-align: right;\n",
       "    }\n",
       "</style>\n",
       "<table border=\"1\" class=\"dataframe\">\n",
       "  <thead>\n",
       "    <tr style=\"text-align: right;\">\n",
       "      <th></th>\n",
       "      <th>angle</th>\n",
       "      <th>sin</th>\n",
       "    </tr>\n",
       "  </thead>\n",
       "  <tbody>\n",
       "    <tr>\n",
       "      <th>0</th>\n",
       "      <td>0.0</td>\n",
       "      <td>0.000000</td>\n",
       "    </tr>\n",
       "    <tr>\n",
       "      <th>500</th>\n",
       "      <td>5.0</td>\n",
       "      <td>0.087156</td>\n",
       "    </tr>\n",
       "    <tr>\n",
       "      <th>1000</th>\n",
       "      <td>10.0</td>\n",
       "      <td>0.173648</td>\n",
       "    </tr>\n",
       "    <tr>\n",
       "      <th>1500</th>\n",
       "      <td>15.0</td>\n",
       "      <td>0.258819</td>\n",
       "    </tr>\n",
       "    <tr>\n",
       "      <th>2000</th>\n",
       "      <td>20.0</td>\n",
       "      <td>0.342020</td>\n",
       "    </tr>\n",
       "    <tr>\n",
       "      <th>2500</th>\n",
       "      <td>25.0</td>\n",
       "      <td>0.422618</td>\n",
       "    </tr>\n",
       "    <tr>\n",
       "      <th>3000</th>\n",
       "      <td>30.0</td>\n",
       "      <td>0.500000</td>\n",
       "    </tr>\n",
       "  </tbody>\n",
       "</table>\n",
       "</div>"
      ],
      "text/plain": [
       "      angle       sin\n",
       "0       0.0  0.000000\n",
       "500     5.0  0.087156\n",
       "1000   10.0  0.173648\n",
       "1500   15.0  0.258819\n",
       "2000   20.0  0.342020\n",
       "2500   25.0  0.422618\n",
       "3000   30.0  0.500000"
      ]
     },
     "execution_count": 3,
     "metadata": {},
     "output_type": "execute_result"
    }
   ],
   "source": [
    "df[df['angle'].isin(range(0, 31, 5))]"
   ]
  }
 ],
 "metadata": {
  "colab": {
   "collapsed_sections": [],
   "name": "Lesson_5.ipynb",
   "provenance": []
  },
  "kernelspec": {
   "display_name": "Python 3",
   "language": "python",
   "name": "python3"
  },
  "language_info": {
   "codemirror_mode": {
    "name": "ipython",
    "version": 3
   },
   "file_extension": ".py",
   "mimetype": "text/x-python",
   "name": "python",
   "nbconvert_exporter": "python",
   "pygments_lexer": "ipython3",
   "version": "3.7.6"
  }
 },
 "nbformat": 4,
 "nbformat_minor": 1
}
