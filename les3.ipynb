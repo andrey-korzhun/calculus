{
 "cells": [
  {
   "cell_type": "markdown",
   "metadata": {
    "id": "zz7SDkPIkVlM"
   },
   "source": [
    "# Урок 3"
   ]
  },
  {
   "cell_type": "markdown",
   "metadata": {
    "id": "p_3vqG5-kVlP"
   },
   "source": [
    "# Предел последовательности"
   ]
  },
  {
   "cell_type": "markdown",
   "metadata": {
    "id": "SmdURZ_OkVqQ"
   },
   "source": [
    "### __1.__ Найти предел последовательности:\n",
    "\n",
    "### $$а) \\lim_{n\\to \\infty} \\frac{(23-2n^2)(3n^2+17)^2}{4n^6+n-1} = $$\n",
    "\n",
    "### $$ = \\lim_{n\\to \\infty}  \\frac{(23-2n^2)(3n^4+102n^2+289)}{4n^6+n-1} = $$\n",
    "### $$ \\lim_{n\\to \\infty} \\frac{69n^4+2346n^2+6647-6n^6-204n^4-578n^2}{4n^6+n-1} = \\frac{-6}{4}=\\frac{-3}{2} $$\n",
    "\n",
    "### $$б) \\lim_{n\\to \\infty} \\frac{(97-2n)^3}{2n(3n^2+15)+8n} = $$\n",
    "\n",
    "### $$ = \\lim_{n\\to \\infty} \\frac{912673-3*9409*2n+3*97*4n^2-8n^3}{6n^3+30n+8n} = \\frac{-8}{6}=\\frac{-4}{3} $$\n",
    "\n",
    "### $$в) \\lim_{n\\to \\infty} \\frac{2n^3+13n(n+18)}{(27-n)(2n+19)^2} = $$\n",
    "\n",
    "### $$ = \\lim_{n \\to \\infty } \\frac{{2{n^3} + 13n(n + 18)}}{{27 \\cdot (4{n^2} + 4 \\cdot 19 \\cdot n + {{19}^2}) - (4{n^3} + 4 \\cdot 19 \\cdot {n^2} + {{19}^2}n)}} =  - \\frac{2}{4} =  - \\frac{1}{2}$$\n",
    "\n",
    "### $$г) \\lim_{n\\to \\infty} (\\sqrt{n^2+1}-n) = $$\n",
    "### $$ = \\lim_{n \\to \\infty } \\frac{{{{\\left( { - \\frac{4}{7}} \\right)}^n} + 5}}{{\\frac{1}{{ - 4}}{{\\left( { - \\frac{4}{7}} \\right)}^n} + {7^2}}} = \\frac{5}{{49}} $$\n",
    "\n",
    "### $$д) \\lim_{n\\to \\infty} \\frac{(-4)^n+5\\cdot7^n}{(-4)^{n-1}+7^{n+2}} = $$\n",
    "### $$ \\lim_{n\\to \\infty} \\frac{7^n((-\\frac{4}{7})^n+5)}{7^n((-\\frac{4}{49})^{n-1}+7^2))} = \\frac{5}{49} $$\n",
    "\n",
    "### $$e)^* \\lim_{n\\to \\infty} \\Bigl(\\frac{1}{1\\cdot2}+\\frac{1}{2\\cdot3}+\\frac{1}{3\\cdot4}+...+\\frac{1}{(n-1)\\cdot n}\\Bigr) = $$ \n",
    "### $$ = \\lim_{n \\to \\infty } \\left( {\\left( {1 - \\frac{1}{2}} \\right) + \\left( {\\frac{1}{2} - \\frac{1}{3}} \\right) + \\left( {\\frac{1}{3} - \\frac{1}{4}} \\right) + ... + \\left( {\\frac{1}{n} - \\frac{1}{{(n - 1)}}} \\right)} \\right) = \\lim_{n \\to \\infty } \\left( {1 - \\frac{1}{{(n - 1)}}} \\right) = 1$$"
   ]
  },
  {
   "cell_type": "markdown",
   "metadata": {
    "id": "iuHDt2sv67po"
   },
   "source": [
    "### __2.__ Представьте $1$ в виде суммы трех рациональных дробей с разными знаменателями и числителем равным $1$."
   ]
  },
  {
   "cell_type": "code",
   "execution_count": 1,
   "metadata": {
    "ExecuteTime": {
     "end_time": "2021-02-09T07:28:49.512887Z",
     "start_time": "2021-02-09T07:28:49.493811Z"
    }
   },
   "outputs": [
    {
     "name": "stdout",
     "output_type": "stream",
     "text": [
      " 1/2 + 1/3 + 1/6 = 1.0\n"
     ]
    }
   ],
   "source": [
    "n1, n2, n3 = 2, 2, 2\n",
    "N = 100\n",
    "\n",
    "while round((1 / n1 + 1 / n2 + 1 / n3), 5) != 1.0:\n",
    "    n2 += 1\n",
    "    for n3 in range (n2, N):\n",
    "        n3 += 1\n",
    "        if round((1 / n1 + 1 / n2 + 1 / n3), 5) == 1.0:\n",
    "            break\n",
    "    if round((1 / n1 + 1 / n2 + 1 / n3), 2) == 1.0:\n",
    "        break\n",
    "\n",
    "print(f' 1/{n1} + 1/{n2} + 1/{n3} = {round((1 / n1 + 1 / n2 + 1 / n3), 5)}')"
   ]
  },
  {
   "cell_type": "markdown",
   "metadata": {
    "id": "b0XHipia67pp"
   },
   "source": [
    "### __3$^*$.__ Тоже задание, только в виде суммы шести дробей.\n",
    "\n",
    "#### Раскладываем каждую дробь из ответа задания 2: 1/2 + 1/3 + 1/6 = 1\n",
    "\n",
    "### $$\\frac{1}{2}=\\frac{1}{2\\cdot3}+\\frac{1}{3}$$\n",
    "\n",
    "### $$\\frac{1}{3}=\\frac{1}{3\\cdot4}+\\frac{1}{4}$$\n",
    "\n",
    "### $$\\frac{1}{6}=\\frac{1}{6\\cdot7}+\\frac{1}{7}$$ \n",
    "\n",
    "### $$\\frac{1}{3}+\\frac{1}{4}+\\frac{1}{6}+\\frac{1}{7}+\\frac{1}{12}+\\frac{1}{42} = 1$$"
   ]
  },
  {
   "cell_type": "code",
   "execution_count": 2,
   "metadata": {
    "ExecuteTime": {
     "end_time": "2021-02-09T07:28:49.527706Z",
     "start_time": "2021-02-09T07:28:49.514810Z"
    }
   },
   "outputs": [
    {
     "data": {
      "text/plain": [
       "1.0"
      ]
     },
     "execution_count": 2,
     "metadata": {},
     "output_type": "execute_result"
    }
   ],
   "source": [
    "1/3 + 1/4 + 1/6 + 1/7 + 1/12 + 1/42"
   ]
  },
  {
   "cell_type": "markdown",
   "metadata": {
    "id": "0zXn26X367pp"
   },
   "source": [
    "### __4.__ Пользуясь критерием Коши, докажите сходимость последовательности:\n",
    "\n",
    "### $$a_n=\\frac{\\sin1}{2}+\\frac{\\sin2}{2^2}+\\frac{\\sin3}{2^3}+..\\frac{\\sin n}{2^n}\\,\\,\\,\\,\\,\\Rightarrow$$\n",
    "\n",
    "### $$\\Bigl\\{a_n\\Bigr\\}_{n=1}^\\infty=\\Bigl\\{\\frac{\\sin1}{2}, \\frac{\\sin1}{2}+\\frac{\\sin2}{2^2}, ..., a_n,...\\Bigr\\}$$\n",
    "\n",
    "### $a_n = \\displaystyle \\frac{\\sin 1}{2} + \\displaystyle \\frac{\\sin 2}{2^2} + \\displaystyle \\frac{\\sin 3}{2^3} +\\cdots + \\displaystyle \\frac{\\sin n}{2^n} \\leq \\displaystyle \\frac{1}{2} + \\displaystyle \\frac{1}{2^2} + \\displaystyle \\frac{1}{2^3} +\\cdots + \\displaystyle \\frac{1}{2^n}$\n",
    "\n",
    "### $|a_{n+k} - a_n| \\leq \\displaystyle \\frac{1}{2^{n+1}} + \\displaystyle \\frac{1}{2^{n+2}} + \\cdots +  \\displaystyle \\frac{1}{2^{n+k}}  =  \\displaystyle \\frac{1}{2^n}(\\displaystyle \\frac{1}{2} + \\displaystyle \\frac{1}{2^2} + \\cdots + \\displaystyle \\frac{1}{2^k}) \\leq \\displaystyle \\frac{1}{2^n} * 1 $\n",
    "\n",
    "### если  $\\displaystyle \\frac{1}{2^n} < \\varepsilon $, то критерию Коши удовлетворяет.\n",
    "\n",
    "### $ 2^{-n} < \\varepsilon$\n",
    "\n",
    "### $- n < \\log_2{\\varepsilon}$\n",
    "\n",
    "### тогда для всех $k > 0, n > N$, и где $ N > - \\log_2{\\varepsilon}$ будет справедливо неравенство $|a_{n+k} - a_n| < \\varepsilon$\n",
    "\n",
    "\n",
    "### $^*$ Какой член последовательности можно взять в качестве предела с точностью $\\varepsilon=10^{-7}$?"
   ]
  },
  {
   "cell_type": "code",
   "execution_count": 3,
   "metadata": {
    "ExecuteTime": {
     "end_time": "2021-02-09T07:28:49.542724Z",
     "start_time": "2021-02-09T07:28:49.529702Z"
    }
   },
   "outputs": [
    {
     "name": "stdout",
     "output_type": "stream",
     "text": [
      "Численное значение предела: 0.59284\n",
      "Погрешность: 2.11e-9\n",
      "Число шагов: 22\n"
     ]
    }
   ],
   "source": [
    "import math\n",
    "from decimal import *\n",
    "\n",
    "\n",
    "eps = 10**(-7)\n",
    "lim = 1\n",
    "series = [0]\n",
    "res = 0\n",
    "n = 1\n",
    "\n",
    "while lim > eps:    \n",
    "    series += [Decimal(math.sin(n)) / Decimal(2**n)]\n",
    "    sum_ = sum(series)\n",
    "    lim = abs(sum_ - res)\n",
    "    res = sum_\n",
    "    n += 1\n",
    "    \n",
    "print (f'Численное значение предела: {res:.5f}\\nПогрешность: {lim:.2e}\\nЧисло шагов: {n - 1}')"
   ]
  },
  {
   "cell_type": "markdown",
   "metadata": {
    "id": "KGpMt5Co67pq"
   },
   "source": [
    "### __5$^*$.__  Пользуясь критерием Коши, докажите расходимость последовательности:\n",
    "\n",
    "### $$b_n=1+\\frac{1}{2}+\\frac{1}{3}+..\\frac{1}{n}\\,\\,\\,\\,\\,\\Rightarrow$$\n",
    "\n",
    "### $$\\Bigl\\{b_n\\Bigr\\}_{n=1}^\\infty=\\Bigl\\{1, 1+\\frac{1}{2},1+\\frac{1}{2}+\\frac{1}{3}, ..., b_n,...\\Bigr\\}$$"
   ]
  },
  {
   "cell_type": "markdown",
   "metadata": {},
   "source": [
    "#### Последовательность $\\Bigl\\{b_n\\Bigr\\}_{n=1}^\\infty$ расходится, если не выполняется условие Коши:\n",
    "#### ∃ε0>0: ∀k∈N∃n≥k∃m≥k: |bn−bm|≥ε0\n",
    "#### Пусть задано любое k∈N: положим n=2k, m=k. Тогда\n",
    "#### |bn−bm|=|b2k−bk|=1/2\n",
    "#### Таким образом, условие выполняется при ε0=1/2, и в силу критерия Коши последовательность {bn} расходится. ▲"
   ]
  },
  {
   "cell_type": "code",
   "execution_count": null,
   "metadata": {},
   "outputs": [],
   "source": []
  }
 ],
 "metadata": {
  "colab": {
   "collapsed_sections": [],
   "name": "Lesson_3.ipynb",
   "provenance": []
  },
  "kernelspec": {
   "display_name": "Python 3",
   "language": "python",
   "name": "python3"
  },
  "language_info": {
   "codemirror_mode": {
    "name": "ipython",
    "version": 3
   },
   "file_extension": ".py",
   "mimetype": "text/x-python",
   "name": "python",
   "nbconvert_exporter": "python",
   "pygments_lexer": "ipython3",
   "version": "3.7.6"
  }
 },
 "nbformat": 4,
 "nbformat_minor": 1
}
