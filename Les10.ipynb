{
 "cells": [
  {
   "cell_type": "markdown",
   "metadata": {
    "id": "zz7SDkPIkVlM"
   },
   "source": [
    "# Урок 10"
   ]
  },
  {
   "cell_type": "markdown",
   "metadata": {
    "id": "p_3vqG5-kVlP"
   },
   "source": [
    "# Ряды"
   ]
  },
  {
   "cell_type": "markdown",
   "metadata": {
    "id": "aU5YNMH9kVqP"
   },
   "source": [
    "## Практическое задание"
   ]
  },
  {
   "cell_type": "markdown",
   "metadata": {
    "id": "SmdURZ_OkVqQ"
   },
   "source": [
    "### __1.__ Исследовать сходимость ряда. \n",
    "\n",
    "\n",
    "### $$\\frac{1}{2\\sqrt2}+\\frac{1}{3\\sqrt3}+\\,...\\,+\\frac{1}{(n+1)\\sqrt{n+1}}+\\,...\\,=\\sum\\limits_{n=1}^{+\\infty}\\frac{1}{(n+1)\\sqrt{n+1}}$$\n",
    "\n",
    "(*) Двумя различными признаками.\n",
    "\n",
    "### По признаку д’Аламбера:\n",
    "\n",
    "### $$\\mathop {\\lim }\\limits_{n \\to  + \\infty } \\frac{{{a_{n + 1}}}}{{{a_n}}} = \\mathop {\\lim }\\limits_{n \\to  + \\infty } \\frac{1}{{{{(n + 2)}^{\\frac{3}{2}}}}}:\\frac{1}{{{{(n + 1)}^{\\frac{3}{2}}}}} = \\mathop {\\lim }\\limits_{n \\to  + \\infty } {\\left( {\\frac{{n + 1}}{{n + 2}}} \\right)^{\\frac{3}{2}}} =$$\n",
    "### $$\\mathop {\\lim }\\limits_{n \\to  + \\infty } {\\left( {1 - \\frac{1}{{n + 2}}} \\right)^{\\frac{3}{2}}} = 1  \\Rightarrow признак \\: не \\: работает$$\n",
    "\n",
    "### По второму признаку сравнения:\n",
    "### $$\\displaystyle \\sum_{n=1}^{+\\infty}\\frac{1}{(n+1)^{3/2}} \\sim O(\\frac{1}{n^{3/2}}) \\Rightarrow ряд\\:сходится$$\n",
    "\n",
    "### По интегральному признаку Коши:\n",
    "\n",
    "### $$\\int\\limits_{1}^{+\\infty}a_{x}\\,dx=\\int\\limits_{1}^{+\\infty}\\frac{1}{(n+1)\\sqrt{n+1}} = \\int\\limits_{1}^{+\\infty}(n+1)^{-\\frac{3}{2}} = -2(n+1)^{-\\frac{1}{2}}\\bigg|_1^{+ \\infty} =$$\n",
    "### $$= 0 + \\frac{2}{\\sqrt 2} = \\sqrt 2  \\Rightarrow ряд\\:сходится$$"
   ]
  },
  {
   "cell_type": "markdown",
   "metadata": {
    "id": "cECfCSANkVqR"
   },
   "source": [
    "### __2.__ Исследовать сходимость ряда\n",
    "\n",
    "### $$\\frac{1000}{1!}+\\frac{1000^2}{2!}+\\,...\\,+\\frac{1000^n}{n!}+\\,...\\,=\\sum\\limits_{n=1}^{+\\infty}\\frac{1000^n}{n!}$$\n",
    "\n",
    "### По признаку д'Аламбера:\n",
    "### $$\\displaystyle \\lim_{n \\to +\\infty}\\frac{a_{n+1}}{a_n}=\\frac{1000^{n+1}}{(n+1)!}\\frac{n!}{1000^n}=\\frac{1000 \\cdot 1000^n \\cdot n!}{n \\cdot n! \\cdot 1000^n}=\\frac{1000}{n} \\to 0 \\Rightarrow Ряд \\: сходится $$ "
   ]
  },
  {
   "cell_type": "markdown",
   "metadata": {
    "id": "DFrjdtbHkVqS"
   },
   "source": [
    "### __3*.__ Исследовать сходимость ряда\n",
    "\n",
    "### $$\\frac{2\\cdot1!}{1}+\\frac{2^2\\cdot2!}{2^2}+\\,...\\,+\\frac{2^n\\cdot n!}{n^n}+\\,...\\,=\\sum\\limits_{n=1}^{+\\infty}\\frac{2^n\\cdot n!}{n^n}$$\n",
    "\n",
    "### $$\\mathop {\\lim }\\limits_{n \\to  + \\infty } \\frac{{{a_{n + 1}}}}{{{a_n}}} = \\mathop {\\lim }\\limits_{n \\to  + \\infty } \\frac{{{2^{n + 1}} \\cdot \\left( {n + 1} \\right)!}}{{{{\\left( {n + 1} \\right)}^{\\left( {n + 1} \\right)}}}}:\\frac{{{2^n} \\cdot n!}}{{{n^n}}} = $$\n",
    "### $$\\mathop {\\lim }\\limits_{n \\to  + \\infty } \\frac{{2 \\cdot {2^n} \\cdot n! \\cdot \\left( {n + 1} \\right)}}{{{{\\left( {n + 1} \\right)}^n} \\cdot \\left( {n + 1} \\right)}} \\cdot \\frac{n}{{{2^n} \\cdot n!}} = 2\\mathop {\\lim }\\limits_{n \\to  + \\infty } {\\left( {\\frac{n}{{n + 1}}} \\right)^n} = $$\n",
    "### $$= 2\\mathop {\\lim }\\limits_{n \\to  + \\infty } {\\left( {1 + \\frac{1}{{ - \\left( {n + 1} \\right)}}} \\right)^{\\frac{{ - n \\cdot \\left( {n + 1} \\right)}}{{\\left( {n + 1} \\right)}}}} = 2\\mathop {\\lim }\\limits_{n \\to  + \\infty } {e^{\\frac{{ - n}}{{\\left( {n + 1} \\right)}}}} =$$\n",
    "### $$2\\mathop {\\lim }\\limits_{n \\to  + \\infty } {e^{ - \\left( {1 - \\frac{1}{{\\left( {n + 1} \\right)}}} \\right)}} = 2{e^{ - 1}} \\Rightarrow Ряд \\: сходится $$"
   ]
  },
  {
   "cell_type": "markdown",
   "metadata": {
    "id": "DnOTUKyh6PcD"
   },
   "source": [
    "### __4*.__ Исследовать сходимость ряда\n",
    "\n",
    "### $$\\frac{3\\cdot1!}{1}+\\frac{3^2\\cdot2!}{2^2}+\\,...\\,+\\frac{3^n\\cdot n!}{n^n}+\\,...\\,=\\sum\\limits_{n=1}^{+\\infty}\\frac{3^n\\cdot n!}{n^n}$$\n",
    "\n",
    "### По признаку д’Аламбера:\n",
    "\n",
    "### $$\\lim_{n\\to +\\infty}\\frac{a_{n+1}}{a_{n}}=\\lim_{n\\to +\\infty}\\frac{\\frac{3^{n+1}\\cdot (n+1)!}{(n+1)^{n+1}}}{\\frac{3^n\\cdot n!}{n^n}} =\\lim_{n\\to +\\infty}\\frac{3\\cdot n^n}{(n+1)^n} = 3\\lim_{n\\to +\\infty}\\frac{n^n}{(n+1)^n} =$$\n",
    "### $$=3\\lim_{n\\to +\\infty}e^{\\ln n^n - \\ln (n+1)^n} = 3\\lim_{n\\to +\\infty}e^{n(\\ln n - \\ln (n+1))} =$$\n",
    "### $$= 3\\cdot e^{\\lim_{n\\to +\\infty}{n(\\ln n - \\ln (n+1))}}= 3\\cdot e^{\\lim_{n\\to +\\infty}\\frac{(\\ln n - \\ln (n+1))}{1/n}}$$\n",
    "### По правилу Лопиталя:\n",
    "### $$3\\cdot e^{\\lim_{n\\to +\\infty}\\frac{(\\ln n - \\ln (n+1))}{1/n}}=3e^{\\lim_{n\\to +\\infty}\\frac{\\frac{1}{x} - \\frac{1}{x+1}}{-\\frac{1}{x^2}}} =$$\n",
    "### $$= 3e^{\\lim_{n\\to +\\infty}-\\frac{x}{x+1}} = 3\\cdot e^{-1} > 1, \\RightarrowРяд \\: расходится$$"
   ]
  },
  {
   "cell_type": "markdown",
   "metadata": {
    "id": "5TNVTcyw6PcD"
   },
   "source": [
    "### __5*.__ Исследовать сходимость ряда\n",
    "\n",
    "### $$-\\frac{\\sqrt1}{101}+\\frac{\\sqrt2}{102}-\\,...\\,+\\frac{(-1)^n\\sqrt n}{n+100}+\\,...\\,=\\sum\\limits_{n=1}^{+\\infty}\\frac{(-1)^n\\sqrt n}{n+100}$$\n",
    "\n",
    "### $$1)\\lim_{n\\to +\\infty}a_n=\\lim_{n\\to +\\infty}\\frac{(-1)^n\\sqrt n}{n+100} \\Bigr(\\frac{\\infty}{\\infty}\\Bigr) = -\\lim_{n\\to +\\infty}\\frac{\\frac{1}{2\\sqrt n}}{1} = 0$$\n",
    "### $$2)\\sum\\limits_{n=1}^{+\\infty}\\frac{\\sqrt n}{n+100} = \\sum\\limits_{n=1}^{+\\infty}\\frac{1}{\\sqrt n+100*n^{-\\frac{1}{2}}} \\: \\sim \\:O\\Bigr(\\frac{1}{n^{\\frac{1}{2}}}\\Bigl) \\RightarrowСходится \\: условно$$"
   ]
  },
  {
   "cell_type": "markdown",
   "metadata": {
    "id": "GyfsQYpg6PcD"
   },
   "source": [
    "### __6*.__ Разложить функцию $y=e^x$ в ряд Маклорена, а так же в ряд Фурье на отрезке $[-\\pi, \\pi]$. Построить график функции и разложений."
   ]
  },
  {
   "cell_type": "markdown",
   "metadata": {
    "ExecuteTime": {
     "end_time": "2021-03-02T14:55:37.158086Z",
     "start_time": "2021-03-02T14:55:36.860844Z"
    }
   },
   "source": [
    "### Ряд Маклорена:\n",
    "\n",
    "### $$f(x)=\\sum\\limits_{n=0}^{+\\infty}\\frac{f^{(n)}(0)}{n!}x^n$$\n",
    "### $$f^{(n)}=e^x,\\ f^{(n)}(0) = 1$$\n",
    "### $$e^x=1+\\frac{1\\cdot x}{1!}+\\frac{1\\cdot x^2}{2!}+\\frac{1\\cdot x^3}{3!}+ ... + \\frac{1\\cdot x^n}{n!}=\\sum\\limits_{n=0}^{+\\infty}\\frac{x^n}{n!}$$"
   ]
  },
  {
   "cell_type": "code",
   "execution_count": 15,
   "metadata": {
    "ExecuteTime": {
     "end_time": "2021-03-02T15:05:18.537474Z",
     "start_time": "2021-03-02T15:05:18.279888Z"
    }
   },
   "outputs": [
    {
     "data": {
      "text/plain": [
       "Text(0.5, 1.0, '$e^x$')"
      ]
     },
     "execution_count": 15,
     "metadata": {},
     "output_type": "execute_result"
    },
    {
     "data": {
      "image/png": "[encoded data removed]",
      "text/plain": [
       "<Figure size 1080x432 with 2 Axes>"
      ]
     },
     "metadata": {
      "needs_background": "light"
     },
     "output_type": "display_data"
    }
   ],
   "source": [
    "import math\n",
    "import matplotlib.pyplot as plt\n",
    "\n",
    "N = 100\n",
    "func_exp = []\n",
    "func_macloren = []\n",
    "func_macloren_sum = []\n",
    "\n",
    "i = 1\n",
    "while i < N:\n",
    "    func_exp.append((math.e) ** i)\n",
    "    i += 1\n",
    "\n",
    "for x in range(1, N):\n",
    "    for j in range(N):\n",
    "        func_macloren.append((x ** j) / math.factorial(j))\n",
    "        \n",
    "    func_macloren_sum.append(sum(func_macloren))\n",
    "    func_macloren = []\n",
    "    \n",
    "\n",
    "fig, ax = plt.subplots(1, 2, figsize=(15, 6))\n",
    "ax1, ax2 = ax\n",
    "ax1.plot(func_macloren_sum)\n",
    "ax1.set_title('Ряд Маклорена')\n",
    "ax2.plot(func_exp)\n",
    "ax2.set_title('$e^x$')"
   ]
  },
  {
   "cell_type": "code",
   "execution_count": null,
   "metadata": {},
   "outputs": [],
   "source": []
  }
 ],
 "metadata": {
  "colab": {
   "collapsed_sections": [],
   "name": "Lesson_10.ipynb",
   "provenance": []
  },
  "kernelspec": {
   "display_name": "Python 3",
   "language": "python",
   "name": "python3"
  },
  "language_info": {
   "codemirror_mode": {
    "name": "ipython",
    "version": 3
   },
   "file_extension": ".py",
   "mimetype": "text/x-python",
   "name": "python",
   "nbconvert_exporter": "python",
   "pygments_lexer": "ipython3",
   "version": "3.7.6"
  }
 },
 "nbformat": 4,
 "nbformat_minor": 1
}
