{
 "cells": [
  {
   "cell_type": "markdown",
   "metadata": {
    "id": "zz7SDkPIkVlM"
   },
   "source": [
    "# Урок 9"
   ]
  },
  {
   "cell_type": "markdown",
   "metadata": {
    "id": "p_3vqG5-kVlP"
   },
   "source": [
    "# Интегралы"
   ]
  },
  {
   "cell_type": "markdown",
   "metadata": {
    "id": "aU5YNMH9kVqP"
   },
   "source": [
    "## Практическое задание"
   ]
  },
  {
   "cell_type": "markdown",
   "metadata": {
    "id": "SmdURZ_OkVqQ"
   },
   "source": [
    "### __1.__ Вычислить неопределенный интеграл\n",
    "\n",
    "### $$\\int \\frac{2x+3}{(x-2)(x+5)}\\,dx$$\n",
    "\n",
    "### $$\\displaystyle \\frac{2x+3}{(x-2)(x+5)}=\\frac{A}{x-2}+\\frac{B}{x+5}=\\frac{A(x+5)+B(x-2)}{(x-2)(x+5)} \\Rightarrow \\begin{cases}\n",
    "A+B=2\\\\\n",
    "5A-2B=3\n",
    "\\end{cases} \\Rightarrow A = 1, B=1$$\n",
    "\n",
    "### $$\\displaystyle \\int\\frac{1}{x-2}\\,dx + \\int\\frac{1}{x+5}\\,dx=\\ln|x-2| + \\ln|x+5| + C$$"
   ]
  },
  {
   "cell_type": "markdown",
   "metadata": {
    "id": "cECfCSANkVqR"
   },
   "source": [
    "### __2.__ Вычислить неопределенный интеграл\n",
    "\n",
    "### $$\\int e^{2x}\\cos 3x\\,dx$$\n",
    "\n",
    "### $$U=e^{2x}\\,\\,\\,\\,\\,\\Rightarrow\\,\\,\\,\\,\\, dU=2e^{2x}dx$$ \n",
    "### $$dV=\\cos 3xdx\\,\\,\\,\\,\\,\\Rightarrow\\,\\,\\,\\,\\, V=\\frac{1}{3}\\sin 3x$$ \n",
    "\n",
    "### $$\\int e^{2x}\\cos 3x\\,dx=\\frac{1}{3}e^{2x}\\cdot \\sin 3x-\\frac{2}{3}\\int e^{2x}\\cdot \\sin 3x\\,dx$$ \n",
    "\n",
    "### Повторно выполним замену\n",
    "\n",
    "### $$U=e^{2x}\\,\\,\\,\\,\\,\\Rightarrow\\,\\,\\,\\,\\, dU=2e^{2x}dx$$ \n",
    "### $$dV=\\sin 3xdx\\,\\,\\,\\,\\,\\Rightarrow\\,\\,\\,\\,\\, V=-\\frac{1}{3}\\cos 3x$$ \n",
    "\n",
    "### $$\\int e^{2x}\\cos 3x\\,dx=\\frac{1}{3}e^{2x}\\cdot \\sin 3x-\\frac{2}{9}e^{2x}\\cdot \\cos 3x -\\frac{4}{9}\\int e^{2x}\\cdot \\cos 3x\\,dx$$ \n",
    "\n",
    "\n",
    "### $$\\frac{13}{9}\\int e^{2x}\\cos 3x\\,dx=-\\frac{1}{3}e^{2x}\\cdot \\sin 3x-\\frac{2}{9}e^{2x}\\cdot \\cos 3x +C$$\n",
    "\n",
    "### $$\\int e^{2x}\\cos 3x\\,dx=\\frac{-3e^{2x}\\cdot \\sin 3x-2e^{2x}\\cdot \\cos 3x}{13}+C$$"
   ]
  },
  {
   "cell_type": "markdown",
   "metadata": {
    "id": "DFrjdtbHkVqS"
   },
   "source": [
    "### __3.__ Вычислить определенный интеграл\n",
    "\n",
    "### $$\\int\\limits_0^{\\ln2} xe^{-x}\\,dx$$\n",
    "\n",
    "### $$U=x\\,\\,\\,\\,\\,\\Rightarrow\\,\\,\\,\\,\\, dU=dx$$ \n",
    "### $$dV=e^{-x}\\,\\,\\,\\,\\,\\Rightarrow\\,\\,\\,\\,\\, V=-e^{-x}$$ \n",
    "\n",
    "### Тогда:\n",
    "\n",
    "### $$\\int\\limits_0^{\\ln2} xe^{-x}\\,dx=-xe^{x} - \\int\\limits_0^{\\ln2} e^{-x}\\,dx = $$\n",
    "\n",
    "### $$ = - {e^{ - \\ln 2}} \\cdot \\left( {\\ln 2 + 1} \\right) + 1 =  - \\frac{1}{2} \\cdot \\left( {\\ln 2 + 1} \\right) + 1 = 0.153$$"
   ]
  },
  {
   "cell_type": "code",
   "execution_count": 1,
   "metadata": {
    "ExecuteTime": {
     "end_time": "2021-02-26T02:03:49.732674Z",
     "start_time": "2021-02-26T02:03:48.564838Z"
    }
   },
   "outputs": [
    {
     "data": {
      "image/png": "[encoded data removed]",
      "text/latex": [
       "$\\displaystyle x e^{- x}$"
      ],
      "text/plain": [
       "   -x\n",
       "x⋅ℯ  "
      ]
     },
     "execution_count": 1,
     "metadata": {},
     "output_type": "execute_result"
    }
   ],
   "source": [
    "from sympy import *\n",
    "init_printing()\n",
    "x=Symbol('x')\n",
    "f=x*exp(-x)\n",
    "f"
   ]
  },
  {
   "cell_type": "code",
   "execution_count": 2,
   "metadata": {
    "ExecuteTime": {
     "end_time": "2021-02-26T02:03:49.898230Z",
     "start_time": "2021-02-26T02:03:49.734668Z"
    }
   },
   "outputs": [
    {
     "name": "stdout",
     "output_type": "stream",
     "text": [
      "0.153426409720027\n"
     ]
    },
    {
     "data": {
      "image/png": "[encoded data removed]",
      "text/latex": [
       "$\\displaystyle \\frac{1}{2} - \\frac{\\log{\\left(2 \\right)}}{2}$"
      ],
      "text/plain": [
       "1   log(2)\n",
       "─ - ──────\n",
       "2     2   "
      ]
     },
     "execution_count": 2,
     "metadata": {},
     "output_type": "execute_result"
    }
   ],
   "source": [
    "import math\n",
    "import numpy as np\n",
    "\n",
    "print(integrate(f,(x, 0, np.log(2))))\n",
    "integrate(f,(x, 0, log(2)))"
   ]
  },
  {
   "cell_type": "markdown",
   "metadata": {
    "id": "8WjM7zpH4RyM"
   },
   "source": [
    "### __4.__ Вычислить несобственный интеграл\n",
    "\n",
    "### $$\\int\\limits_2^{+\\infty} \\frac{dx}{x^2+x-2}$$\n",
    "### $$\\int\\limits_2^{+\\infty} \\frac{dx}{x^2+x-2}=\\int\\limits_2^{+\\infty} \\frac{dx}{(x+2)(x-1)}$$\n",
    "### $$\\frac{1}{(x+2)(x-1)}=\\frac{A}{x+2}+\\frac{B}{x-1}=\\frac{A(x-1)+B(x+2)}{(x+2)(x-1)}=\\frac{x(A+B) - A +2B}{(x+2)(x-1)}$$ \n",
    "### $$\\begin{cases}\n",
    "   A+B=0 \\\\\n",
    "   -A+2B=1 \\\\\n",
    " \\end{cases}\\,\\,\\,\\,\\,\\Rightarrow\\,\\,\\,\\,\\, \n",
    " \\begin{cases}\n",
    "   A=-\\frac{1}{3} \\\\\n",
    "   B=\\frac{1}{3} \\\\\n",
    " \\end{cases}$$ \n",
    "### $$\\int\\limits_2^{+\\infty} \\frac{dx}{x^2+x-2} =  -\\frac{1}{3}\\lim_{a\\to +\\infty}\\int\\limits_{2}^{a}\\frac{dx}{x+2} + \\frac{1}{3}\\lim_{a\\to +\\infty}\\int\\limits_{2}^{a}\\frac{dx}{x-1}=-\\frac{1}{3}\\lim_{a\\to +\\infty}\\ln|x+2|\\bigg|_2^{a}+\\frac{1}{3}\\lim_{a\\to +\\infty}\\ln|x-1|\\bigg|_2^{a} =$$\n",
    "### $$=-\\frac{1}{3}\\lim_{a\\to +\\infty}\\ln{\\frac{|x+2|}{|x-1|}}\\bigg|_2^{a} = -\\frac{1}{3}\\lim_{a\\to +\\infty}\\ln{\\frac{|a+2|}{|a-1|}} + \\frac{1}{3}\\lim_{a\\to +\\infty}\\ln4=\\frac{1}{3}\\ln4$$"
   ]
  },
  {
   "cell_type": "code",
   "execution_count": 3,
   "metadata": {
    "ExecuteTime": {
     "end_time": "2021-02-26T02:03:49.974030Z",
     "start_time": "2021-02-26T02:03:49.901223Z"
    }
   },
   "outputs": [
    {
     "data": {
      "image/png": "[encoded data removed]",
      "text/latex": [
       "$\\displaystyle \\frac{1}{x^{2} + x - 2}$"
      ],
      "text/plain": [
       "    1     \n",
       "──────────\n",
       " 2        \n",
       "x  + x - 2"
      ]
     },
     "execution_count": 3,
     "metadata": {},
     "output_type": "execute_result"
    }
   ],
   "source": [
    "init_printing()\n",
    "x=Symbol('x')\n",
    "f=1/(x**2+x-2)\n",
    "f"
   ]
  },
  {
   "cell_type": "code",
   "execution_count": 4,
   "metadata": {
    "ExecuteTime": {
     "end_time": "2021-02-26T02:03:50.610301Z",
     "start_time": "2021-02-26T02:03:49.976025Z"
    }
   },
   "outputs": [
    {
     "data": {
      "image/png": "[encoded data removed]",
      "text/latex": [
       "$\\displaystyle \\frac{\\log{\\left(4 \\right)}}{3}$"
      ],
      "text/plain": [
       "log(4)\n",
       "──────\n",
       "  3   "
      ]
     },
     "execution_count": 4,
     "metadata": {},
     "output_type": "execute_result"
    }
   ],
   "source": [
    "integrate(f,(x, 2, +oo))"
   ]
  },
  {
   "cell_type": "markdown",
   "metadata": {
    "id": "cuLCvoBm4RyO"
   },
   "source": [
    "### __5*.__ Вычислить несобственный интеграл\n",
    "\n",
    "### $$\\int\\limits_0^{1} \\ln x\\,dx$$\n",
    "\n",
    "### $$\\int\\limits_0^{1} \\ln x\\,dx$$\n",
    "### $$U=\\ln x\\,\\,\\,\\,\\,\\Rightarrow\\,\\,\\,\\,\\, dU=\\frac{1}{x}dx$$ \n",
    "### $$dV=dx\\,\\,\\,\\,\\,\\Rightarrow\\,\\,\\,\\,\\, V=x$$ \n",
    "### Тогда:\n",
    "\n",
    "### $$\\int\\limits_0^{1} \\ln x\\,dx =x\\ln x- \\int\\limits_0^{1}\\,dx = x\\ln x-x\\bigg|_0^{1} = -1$$ "
   ]
  },
  {
   "cell_type": "code",
   "execution_count": 5,
   "metadata": {
    "ExecuteTime": {
     "end_time": "2021-02-26T02:03:50.655182Z",
     "start_time": "2021-02-26T02:03:50.612297Z"
    },
    "id": "KqOFnA-I4RyX"
   },
   "outputs": [
    {
     "data": {
      "image/png": "[encoded data removed]",
      "text/latex": [
       "$\\displaystyle \\log{\\left(x \\right)}$"
      ],
      "text/plain": [
       "log(x)"
      ]
     },
     "execution_count": 5,
     "metadata": {},
     "output_type": "execute_result"
    }
   ],
   "source": [
    "init_printing()\n",
    "x=Symbol('x')\n",
    "f=log(x)\n",
    "f"
   ]
  },
  {
   "cell_type": "code",
   "execution_count": 6,
   "metadata": {
    "ExecuteTime": {
     "end_time": "2021-02-26T02:03:50.792823Z",
     "start_time": "2021-02-26T02:03:50.656178Z"
    }
   },
   "outputs": [
    {
     "data": {
      "image/png": "[encoded data removed]",
      "text/latex": [
       "$\\displaystyle -1$"
      ],
      "text/plain": [
       "-1"
      ]
     },
     "execution_count": 6,
     "metadata": {},
     "output_type": "execute_result"
    }
   ],
   "source": [
    "integrate(f,(x, 0, 1))"
   ]
  }
 ],
 "metadata": {
  "colab": {
   "collapsed_sections": [],
   "name": "Lesson_9.ipynb",
   "provenance": []
  },
  "kernelspec": {
   "display_name": "Python 3",
   "language": "python",
   "name": "python3"
  },
  "language_info": {
   "codemirror_mode": {
    "name": "ipython",
    "version": 3
   },
   "file_extension": ".py",
   "mimetype": "text/x-python",
   "name": "python",
   "nbconvert_exporter": "python",
   "pygments_lexer": "ipython3",
   "version": "3.7.6"
  }
 },
 "nbformat": 4,
 "nbformat_minor": 1
}
