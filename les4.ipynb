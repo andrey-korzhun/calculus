{
 "cells": [
  {
   "cell_type": "markdown",
   "metadata": {
    "id": "zz7SDkPIkVlM"
   },
   "source": [
    "# Урок 4"
   ]
  },
  {
   "cell_type": "markdown",
   "metadata": {
    "id": "p_3vqG5-kVlP"
   },
   "source": [
    "# Функция. Предел функции"
   ]
  },
  {
   "cell_type": "markdown",
   "metadata": {
    "id": "aU5YNMH9kVqP"
   },
   "source": [
    "## Практическое задание"
   ]
  },
  {
   "cell_type": "markdown",
   "metadata": {
    "id": "SmdURZ_OkVqQ"
   },
   "source": [
    "__1.__ Найти предел последовательности:\n",
    "\n",
    "### $$а) \\lim_{x\\to 6} \\frac{x^2-36}{x^2-x-30}$$\n",
    "\n",
    "### $li{m_{x \\to 6}}\\frac{{{x^2} - 36}}{{{x^2} - x - 30}}\\, = \\,li{m_{x \\to 6}}\\frac{{36 - 36}}{{{{36}^2} - 6 - 30}}\\, = \\frac{0}{0}$\n",
    "\n",
    "### $li{m_{x \\to 6}}\\frac{{{x^2} - 36}}{{{x^2} - x - 30}}\\, = \\,li{m_{x \\to 6}}\\frac{{\\left( {x - 6} \\right)\\left( {x + 6} \\right)}}{{\\left( {x - 6} \\right)\\left( {x + 5} \\right)}}\\, = li{m_{x \\to 6}}\\frac{{x + 6}}{{x + 5}} = li{m_{x \\to 6}}\\frac{{6 + 6}}{{6 + 5}} = \\frac{{12}}{{11}}$\n",
    "\n",
    "### $$б) \\lim_{x\\to 7} \\frac{x^2-49}{x^2-13x+42}$$\n",
    "\n",
    "### $\\mathop {\\lim }\\limits_{x \\to 7} \\frac{{{x^2} - 49}}{{{x^2} - 13x + 42}}\\, = \\mathop {\\lim }\\limits_{x \\to 7} \\frac{{49 - 49}}{{49 - 13 \\cdot 7 + 42}}\\, = \\frac{0}{0}\\,$\n",
    "\n",
    "### $\\mathop {\\lim }\\limits_{x \\to 7} \\frac{{{x^2} - 49}}{{{x^2} - 13x + 42}}\\, = \\mathop {\\lim }\\limits_{x \\to 7} \\frac{{\\left( {x - 7} \\right)\\left( {x + 7} \\right)}}{{\\left( {x - 7} \\right)\\left( {x - 6} \\right)}}\\, = \\mathop {\\lim }\\limits_{x \\to 7} \\frac{{x + 7}}{{x - 6}} = \\mathop {\\lim }\\limits_{x \\to 7} \\frac{{7 + 7}}{{7 - 6}} = 14$\n",
    "\n",
    "### $$в^*) \\lim_{x\\to 7} \\frac{\\sqrt{x+2}-\\sqrt[3]{x+20}}{\\sqrt[4]{x+9}-2}$$\n",
    "\n",
    "### $Пусть\\,x = 7 + h,\\, \\,\\,\\,  (1+h)^{\\frac{1}{n}}\\approx1+\\frac{h}{n}, \\,\\,\\,\\,(1+\\frac{h}{n})^n\\approx1+h$\n",
    "### $\\lim_{x\\to 7} \\frac{\\sqrt{x+2}-\\sqrt[3]{x+20}}{\\sqrt[4]{x+9}-2} = \\lim_{h\\to 0} \\frac{\\sqrt{h+9}-\\sqrt[3]{h+27}}{\\sqrt[4]{h +16}-2} = \\lim_{h\\to 0} \\frac{3\\sqrt{1+\\frac{h}{9}}-3\\sqrt[3]{1 + \\frac{h}{27}}}{2\\sqrt[4]{1 + \\frac{h}{16}}-2} = $\n",
    "### $ = \\lim_{h\\to 0} \\frac{3+\\frac{h}{6}-3 + \\frac{h}{27}}{2 + \\frac{h}{32}-2} = \\lim_{h\\to 0} \\frac{\\frac{7h}{54}}{2 + \\frac{h}{32}-2} = \\frac{224}{54} = \\frac{112}{27}$\n",
    "\n",
    "### $$г) \\lim_{x\\to 0} \\frac{3x\\,\\mbox{tg}\\,4x}{1-\\cos4x}$$\n",
    "\n",
    "### ${\\mkern 1mu} \\mathop {\\lim }\\limits_{x \\to 0} \\frac{{3x{\\mkern 1mu} {\\rm{tg}}{\\mkern 1mu} 4x}}{{1 - \\cos 4x}} = \\frac{0}{{1 - \\cos 4 \\cdot 0}} = \\frac{0}{0}$\n",
    "\n",
    "### $\\mathop {\\lim }\\limits_{x \\to 0} \\frac{{3x{\\mkern 1mu} {\\rm{tg}}{\\mkern 1mu} 4x}}{{1 - \\cos 4x}} = \\mathop {\\lim }\\limits_{x \\to 0} \\frac{{3x{\\mkern 1mu}  \\cdot {\\mkern 1mu} 4x}}{{\\frac{{16{x^2}}}{2}}} = \\mathop {\\lim }\\limits_{x \\to 0} \\frac{{3{x^2}}}{{2{x^2}}} = \\frac{3}{2}$\n",
    "\n",
    "### $$д^{**}) \\lim_{x\\to 0} \\frac{\\sqrt2x^2\\sin4x}{(1-\\cos2x)^{\\frac{3}{2}}}$$\n",
    "\n",
    "### $\\lim_{x\\to 0} \\frac{\\sqrt2x^2\\sin4x}{(1-\\cos2x)^{\\frac{3}{2}}} = \\lim_{x\\to 0} \\frac{\\sqrt2x^2\\sin4x}{(2\\sin^2x)^{\\frac{3}{2}}} = \\lim_{x\\to 0} \\frac{\\sqrt2x^2\\sin4x}{(\\sqrt8\\mid \\sin^3x\\mid)}=\\lim_{x\\to 0} \\frac{\\sqrt2x^2\\sin4x}{(\\sqrt8\\mid x^3\\mid)}=\\lim_{x\\to 0} \\frac{\\sqrt2\\sin4x}{(\\sqrt8\\mid x \\mid)}=$\n",
    "### $ = \\lim_{x\\to 0} \\frac{4\\sqrt2\\sin4x}{(\\sqrt8\\,4\\mid x \\mid)} = \\lim_{x\\to 0} \\frac{4\\sqrt24x}{(\\sqrt8\\,\\mid 4x \\mid)} = \\frac{4x}{2\\mid x \\mid} = \\pm2$\n",
    "### Предела не существует\n",
    "\n",
    "### $$е) \\lim_{x\\to \\infty} \\Bigr(\\frac{4x}{4x+3}\\Bigl)^\\frac{5x^2}{7x-1}$$\n",
    "\n",
    "### $li{m_{x \\to \\infty }}{\\left( {\\frac{{4x}}{{4x + 3}}} \\right)^{\\frac{{5{x^2}}}{{7x - 1}}}}\\, = {\\left( 1 \\right)^{ + \\infty }}$\n",
    "\n",
    "### $li{m_{x \\to \\infty }}{\\left( {\\frac{{4x}}{{4x + 3}}} \\right)^{\\frac{{5{x^2}}}{{7x - 1}}}}\\, = li{m_{x \\to \\infty }}{\\left( {1 + \\frac{1}{{ - \\frac{1}{3}\\left( {4x + 3} \\right)}}} \\right)^{\\frac{{ - 3}}{{4x + 3}} \\cdot \\frac{1}{{ - 3}}\\left( {4x + 3} \\right) \\cdot \\frac{{5{x^2}}}{{7x - 1}}}} = li{m_{x \\to \\infty }}{^{ - \\frac{{15{x^2}}}{{\\left( {4x + 3} \\right)\\left( {7x - 1} \\right)}}}} = li{m_{x \\to \\infty }}{^{ - \\frac{{15{x^2}}}{{28{x^2} + 17x - 3}}}} = {^{ - \\frac{{15}}{{28}}}}$\n",
    "\n",
    "### $$ж^*) \\lim_{x\\to +0} \\frac{5^x-1}{x}$$\n",
    "\n",
    "### $$з^*) \\lim_{x\\to +\\infty} \\frac{\\ln(x^2-x+1)}{\\ln(x^{10}+x+1)}$$"
   ]
  },
  {
   "cell_type": "markdown",
   "metadata": {
    "id": "DDZoCuAdRLZq"
   },
   "source": [
    "__2*.__ На языке Python предложить алгоритм вычисляющий численно предел\n",
    "\n",
    "### $$\\lim_{x\\to +\\infty} \\frac{x}{\\sqrt[x]{x!}}$$"
   ]
  },
  {
   "cell_type": "code",
   "execution_count": 1,
   "metadata": {
    "ExecuteTime": {
     "end_time": "2021-02-11T22:55:17.867268Z",
     "start_time": "2021-02-11T22:55:17.803683Z"
    }
   },
   "outputs": [
    {
     "name": "stdout",
     "output_type": "stream",
     "text": [
      "limit = 2.61869\n",
      " eps = 9.89e-4\n",
      " x = 84\n"
     ]
    }
   ],
   "source": [
    "import math\n",
    "from decimal import Decimal\n",
    "\n",
    "\n",
    "def funk(n):\n",
    "    b = math.factorial(n)\n",
    "    a = n / b**(1/n)\n",
    "    return a\n",
    "\n",
    "\n",
    "eps = 1e-3\n",
    "i = Decimal(2)\n",
    "\n",
    "while (abs(funk(i) - funk(i - 1))) > eps:\n",
    "    i += 1\n",
    "print(f'limit = {funk(i):.5f}\\n eps = {abs(funk(i) - funk(i - 1)):.2e}\\n x = {i}')"
   ]
  },
  {
   "cell_type": "code",
   "execution_count": null,
   "metadata": {},
   "outputs": [],
   "source": []
  }
 ],
 "metadata": {
  "colab": {
   "collapsed_sections": [],
   "name": "Lesson_4.ipynb",
   "provenance": []
  },
  "kernelspec": {
   "display_name": "Python 3",
   "language": "python",
   "name": "python3"
  },
  "language_info": {
   "codemirror_mode": {
    "name": "ipython",
    "version": 3
   },
   "file_extension": ".py",
   "mimetype": "text/x-python",
   "name": "python",
   "nbconvert_exporter": "python",
   "pygments_lexer": "ipython3",
   "version": "3.7.6"
  }
 },
 "nbformat": 4,
 "nbformat_minor": 1
}
