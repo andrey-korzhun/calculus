{
 "cells": [
  {
   "cell_type": "markdown",
   "metadata": {
    "id": "zz7SDkPIkVlM"
   },
   "source": [
    "# Урок 2"
   ]
  },
  {
   "cell_type": "markdown",
   "metadata": {
    "id": "p_3vqG5-kVlP"
   },
   "source": [
    "# Теория множеств. Математическая логика."
   ]
  },
  {
   "cell_type": "markdown",
   "metadata": {
    "id": "aU5YNMH9kVqP"
   },
   "source": [
    "## Практическое задание"
   ]
  },
  {
   "cell_type": "markdown",
   "metadata": {
    "id": "SmdURZ_OkVqQ"
   },
   "source": [
    "__1.__ Представьте в виде __несократимой__ рациональной дроби:\n",
    "\n",
    "### $$а)\\,\\,\\, 0.(216);$$\n",
    "\n",
    "$ \\displaystyle a = 0.(216) \\Rightarrow 1000 \\cdot a = 216.(216) \\Rightarrow 999 \\cdot a = 216 \\Rightarrow a = \\frac{216}{999} = \\frac{8}{37}$"
   ]
  },
  {
   "cell_type": "markdown",
   "metadata": {
    "id": "SmdURZ_OkVqQ"
   },
   "source": [
    "### $$б)\\,\\,\\, 1.0(01).$$\n",
    "\n",
    "$\\displaystyle a = 0.(01) \\Rightarrow 100 \\cdot a = 1 + a \\Rightarrow a = \\frac{1}{99}$"
   ]
  },
  {
   "cell_type": "markdown",
   "metadata": {
    "id": "sL2R25ZyLwJs"
   },
   "source": [
    "__2*.__ Пусть $x =\\frac{2}{21}$. Известно, что для некоторого натурального $k$ число $x$ записывается в $k$ - ичной системе счисления как $0.(13)_k = 0, 131313..._k$. Найдите $k$.\n",
    "\n",
    "### $$k^2x=13.(13)_k$$\n",
    "\n",
    "### $$k^2x=13_k+0.(13)_k$$\n",
    "\n",
    "### $$k^2x=13_k+x$$\n",
    "\n",
    "### $$k^2x-x=13_k$$\n",
    "\n",
    "### $$(k^2-1)x=13_k$$\n",
    "\n",
    "### $$x=\\frac{13_k}{k^2-1}$$\n",
    "\n",
    "### $$x=\\frac{1\\cdot k^1+3\\cdot k^0}{k^2-1}$$\n",
    "\n",
    "### $$x=\\frac{k+3}{k^2-1}$$\n",
    "\n",
    "### $$\\frac{2}{21}=\\frac{k+3}{k^2-1}$$\n",
    "\n",
    "### $$2k^2-2=21k+63$$\n",
    "\n",
    "### $$2k^2-21k-65=0$$\n",
    "\n",
    "### $$k_1=-2.5\\,\\,\\,\\,\\,k_2=13$$"
   ]
  },
  {
   "cell_type": "markdown",
   "metadata": {
    "id": "Qd9FUA2kLwJt"
   },
   "source": [
    "__3.__ Проверьте любым способ, является ли данные логические формулы тавтологией:\n",
    "\n",
    "### $$a)\\,\\,\\, (A \\vee B) \\rightarrow (B \\vee\\overline A)$$\n",
    "\n",
    "#### Не является тавтологией, т.к. противоречит закону коммутативной дизъюнкции. \n",
    "\n",
    "### $$б)\\,\\,\\, A \\rightarrow (A \\vee (\\overline B \\wedge A))$$\n",
    "\n",
    "#### Является тавтологией, т.к. по закону поглащения дизъюнкции $(A \\vee (\\overline{B} \\wedge A))$ = $A$"
   ]
  },
  {
   "cell_type": "markdown",
   "metadata": {
    "id": "3oBZ-xlqLwJu"
   },
   "source": [
    "__4.__ Сформулируйте словесно высказывания:\n",
    "### $$a)\\,\\,\\, (\\overline A \\vee B) \\rightarrow \\overline C$$\n",
    "\n",
    "#### Если сегодня будет пасмурно или сыро, то я не поеду на дачу\n",
    "\n",
    "### $$б)\\,\\,\\, C \\rightarrow (A \\vee \\overline B)$$\n",
    "\n",
    "#### Сегодня будет солнечно и сухо, когда я буду ехать на дачу\n",
    "\n",
    "- $A:\\,\\,\\,$ сегодня светит солнце; \n",
    "- $B:\\,\\,\\,$ сегодня сыро; \n",
    "- $C:\\,\\,\\,$ я поеду на дачу. "
   ]
  },
  {
   "cell_type": "markdown",
   "metadata": {
    "id": "KgkAUcovLwJv"
   },
   "source": [
    "__5.__  Пользуясь правилом построения противоположного высказывания, запишите утверждения, противоположные следующим:\n",
    "\n",
    "a) На любом курсе каждого факультета есть студенты, сдающие все экзамены на «отлично».\n",
    "\n",
    "#### Есть такой курс одного из факультетов, где ни один из студентов не сдал все экзамены на \"отлично\"\n",
    "\n",
    "б) В любом самолете на рейсе Вашингтон-Москва присутствует хотя бы один сотрудник силовых органов, в каждой пуговице одежды которого вмонтирован микрофон.\n",
    "\n",
    "#### Есть один самолет на рейсе Вашингтон-Москва, где нет сотрудников силовых органов, у которых в одной из пуговиц вмонтирован микрофон"
   ]
  },
  {
   "cell_type": "markdown",
   "metadata": {
    "id": "ydKtcmhvLwJw"
   },
   "source": [
    "__6*.__ Прочитайте высказывания, установите их истинность и постройте противоположное высказывание:\n",
    "\n",
    "### $$a)\\,\\,\\, \\forall x\\in\\mathbb{R}\\,\\,\\,\\exists X\\in\\mathbb{R}:\\,\\,\\, X>x;$$\n",
    "### $$б)\\,\\,\\, \\forall y\\in\\Bigl[0; \\frac{\\pi}{2}\\Bigr]\\,\\,\\,\\exists \\varepsilon>0:\\,\\,\\, \\sin y<\\sin(y+\\varepsilon);$$\n",
    "### $$в)\\,\\,\\, \\forall y\\in\\Bigl[0; \\frac{\\pi}{2}\\Bigr)\\,\\,\\,\\exists \\varepsilon>0:\\,\\,\\, \\cos y>\\cos(y+\\varepsilon).$$\n",
    "\n",
    "### $$a)\\,\\,\\, \\forall x\\in\\mathbb{R}\\,\\,\\,\\exists X\\in\\mathbb{R}:\\,\\,\\, X>x;$$\n",
    "#### Истинное высказывание т.к. во множестве действительных чисел всегда найдется элемент больше любого другого элемента.\n",
    "### $$Отрицание:\\,\\,\\, \\exists x\\in\\mathbb{R}\\,\\,\\,\\forall X\\in\\mathbb{R}:\\,\\,\\, x\\leq X$$\n",
    "\n",
    "### $$б)\\,\\,\\, \\forall y\\in\\Bigl[0; \\frac{\\pi}{2}\\Bigr]\\,\\,\\,\\exists \\varepsilon>0:\\,\\,\\, \\sin y<\\sin(y+\\varepsilon);$$\n",
    "#### Ложное  высказывание т.к. в $\\frac{\\pi}{2}$ функция принимает максимальное значение, значит неравенство $sin \\frac{\\pi}{2}<\\sin(\\frac{\\pi}{2}+\\varepsilon);$ не верно\n",
    "### $$Отрицание:\\,\\,\\, \\exists y\\in\\Bigl[0; \\frac{\\pi}{2}\\Bigr]\\,\\,\\,\\forall \\varepsilon>0:\\,\\,\\, \\sin y\\geq \\sin(y+\\varepsilon);$$\n",
    "\n",
    "### $$в)\\,\\,\\, \\forall y\\in\\Bigl[0; \\frac{\\pi}{2}\\Bigr)\\,\\,\\,\\exists \\varepsilon>0:\\,\\,\\, \\cos y>\\cos(y+\\varepsilon).$$\n",
    "#### Истинное высказывание т.к. на этом полуинтервале функция cos убывает.\n",
    "### $$Отрицание:\\,\\,\\, \\exists y\\in\\Bigl[0; \\frac{\\pi}{2}\\Bigr)\\,\\,\\,\\forall \\varepsilon>0:\\,\\,\\, \\cos y \\leq \\cos(y+\\varepsilon).$$"
   ]
  }
 ],
 "metadata": {
  "colab": {
   "collapsed_sections": [],
   "name": "Копия блокнота \"Lesson_2.ipynb\"",
   "provenance": []
  },
  "kernelspec": {
   "display_name": "Python 3",
   "language": "python",
   "name": "python3"
  },
  "language_info": {
   "codemirror_mode": {
    "name": "ipython",
    "version": 3
   },
   "file_extension": ".py",
   "mimetype": "text/x-python",
   "name": "python",
   "nbconvert_exporter": "python",
   "pygments_lexer": "ipython3",
   "version": "3.7.6"
  }
 },
 "nbformat": 4,
 "nbformat_minor": 1
}
